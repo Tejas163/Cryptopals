{
  "nbformat": 4,
  "nbformat_minor": 0,
  "metadata": {
    "colab": {
      "name": "Untitled4.ipynb",
      "provenance": [],
      "authorship_tag": "ABX9TyMV+7QHkFgmNLVcIRNX0jzn",
      "include_colab_link": true
    },
    "kernelspec": {
      "name": "python3",
      "display_name": "Python 3"
    },
    "language_info": {
      "name": "python"
    }
  },
  "cells": [
    {
      "cell_type": "markdown",
      "metadata": {
        "id": "view-in-github",
        "colab_type": "text"
      },
      "source": [
        "<a href=\"https://colab.research.google.com/github/Tejas163/Cryptopals/blob/master/Set1-Pr1.ipynb\" target=\"_parent\"><img src=\"https://colab.research.google.com/assets/colab-badge.svg\" alt=\"Open In Colab\"/></a>"
      ]
    },
    {
      "cell_type": "code",
      "metadata": {
        "id": "pzoIT_2U6101"
      },
      "source": [
        "from binascii import unhexlify\n",
        "import base64 \n"
      ],
      "execution_count": 14,
      "outputs": []
    },
    {
      "cell_type": "code",
      "metadata": {
        "colab": {
          "base_uri": "https://localhost:8080/"
        },
        "id": "1Dihza2VAWBB",
        "outputId": "d8ad9f93-1064-4afd-bf8e-2da302ae63fd"
      },
      "source": [
        "def hex_to_b64():\n",
        "  string = input(\"Enter the string: \")\n",
        "  result = bytes.fromhex(string)\n",
        "  result = base64.b64encode(result)\n",
        "  return result.decode()\n",
        "\n",
        "if __name__ == \"__main__\":\n",
        "  d=hex_to_b64()\n",
        "  if d == \"SSdtIGtpbGxpbmcgeW91ciBicmFpbiBsaWtlIGEgcG9pc29ub3VzIG11c2hyb29t\":\n",
        "    print(\"True\")\n",
        "  else:\n",
        "    print(\"False\")\n"
      ],
      "execution_count": 16,
      "outputs": [
        {
          "output_type": "stream",
          "text": [
            "Enter the string: 49276d206b696c6c696e6720796f757220627261696e206c696b65206120706f69736f6e6f7573206d757368726f6f6d\n",
            "True\n"
          ],
          "name": "stdout"
        }
      ]
    }
  ]
}