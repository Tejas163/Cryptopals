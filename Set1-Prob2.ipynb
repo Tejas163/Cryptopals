{
  "nbformat": 4,
  "nbformat_minor": 0,
  "metadata": {
    "colab": {
      "name": "Untitled5.ipynb",
      "provenance": [],
      "authorship_tag": "ABX9TyO357iCuq6wRW9OF+JoFxoz",
      "include_colab_link": true
    },
    "kernelspec": {
      "name": "python3",
      "display_name": "Python 3"
    },
    "language_info": {
      "name": "python"
    }
  },
  "cells": [
    {
      "cell_type": "markdown",
      "metadata": {
        "id": "view-in-github",
        "colab_type": "text"
      },
      "source": [
        "<a href=\"https://colab.research.google.com/github/Tejas163/Cryptopals/blob/master/Set1-Prob2.ipynb\" target=\"_parent\"><img src=\"https://colab.research.google.com/assets/colab-badge.svg\" alt=\"Open In Colab\"/></a>"
      ]
    },
    {
      "cell_type": "code",
      "metadata": {
        "id": "nf8XMh1ZDCrp"
      },
      "source": [
        "import base64\n",
        "from binascii import unhexlify"
      ],
      "execution_count": 9,
      "outputs": []
    },
    {
      "cell_type": "code",
      "metadata": {
        "colab": {
          "base_uri": "https://localhost:8080/"
        },
        "id": "pN0I9WIKBfuG",
        "outputId": "2ed22aba-4c60-455b-db33-d8ba98b6a3d6"
      },
      "source": [
        "def combo(b1,b2):  \n",
        "    b1= bytearray.fromhex(b1)\n",
        "    b2= bytearray.fromhex(b2)\n",
        "    l = len(b1)\n",
        "    l2 = len(b2)\n",
        "    print(l,l2)\n",
        "    if l == l2:\n",
        "      res = [x^y for x,y in zip(b1,b2)]\n",
        "      result = bytes(res)\n",
        "      result = result.hex()\n",
        "      #result = result.encode(\"hex\")\n",
        "      print(result)\n",
        "    return result\n",
        "\n",
        "    \n",
        "\n",
        "if __name__ == \"__main__\":\n",
        "  b1=\"1c0111001f010100061a024b53535009181c\"\n",
        "  b2=\"686974207468652062756c6c277320657965\"\n",
        "  result=combo(b1,b2)\n",
        "  if result == bytearray.fromhex(\"746865206b696420646f6e277420706c6179\"):\n",
        "    print(\"Success\")\n"
      ],
      "execution_count": 26,
      "outputs": [
        {
          "output_type": "stream",
          "text": [
            "18 18\n",
            "746865206b696420646f6e277420706c6179\n"
          ],
          "name": "stdout"
        }
      ]
    }
  ]
}